{
  "cells": [
    {
      "cell_type": "code",
      "execution_count": 1,
      "metadata": {
        "colab": {
          "base_uri": "https://localhost:8080/"
        },
        "id": "pzrEnp_-OYzG",
        "outputId": "936fb33d-5dc9-4bbe-cc6f-e9e519b97a7c"
      },
      "outputs": [
        {
          "name": "stderr",
          "output_type": "stream",
          "text": [
            "/usr/local/lib/python3.6/dist-packages/ipykernel_launcher.py:5: TqdmDeprecationWarning: This function will be removed in tqdm==5.0.0\n",
            "Please use `tqdm.notebook.*` instead of `tqdm._tqdm_notebook.*`\n",
            "  \"\"\"\n"
          ]
        }
      ],
      "source": [
        "import tensorflow as tf\n",
        "from zipfile import ZipFile\n",
        "import os,glob\n",
        "import cv2\n",
        "from tqdm._tqdm_notebook import tqdm_notebook as tqdm\n",
        "import numpy as np\n",
        "from sklearn import preprocessing\n",
        "from sklearn.model_selection import train_test_split\n",
        "from keras.models import Sequential\n",
        "from keras.layers import Convolution2D, Dropout, Dense,MaxPooling2D\n",
        "from keras.layers import BatchNormalization\n",
        "from keras.layers import MaxPooling2D\n",
        "from keras.layers import Flatten"
      ]
    },
    {
      "cell_type": "markdown",
      "metadata": {
        "id": "fV8F7X_FPwau"
      },
      "source": [
        "Downloading Dataset from Kaggle"
      ]
    },
    {
      "cell_type": "code",
      "execution_count": null,
      "metadata": {
        "id": "v4wPd_CbPZTh"
      },
      "outputs": [],
      "source": [
        "#!pip install kaggle"
      ]
    },
    {
      "cell_type": "code",
      "execution_count": 2,
      "metadata": {
        "colab": {
          "base_uri": "https://localhost:8080/"
        },
        "id": "SMDxyC3befdv",
        "outputId": "f9c4714e-31a1-4abc-da98-a96c1ecf22f0"
      },
      "outputs": [
        {
          "name": "stdout",
          "output_type": "stream",
          "text": [
            "Mounted at /content/gdrive\n"
          ]
        }
      ],
      "source": [
        "from google.colab import drive\n",
        "drive.mount('/content/gdrive')"
      ]
    },
    {
      "cell_type": "code",
      "execution_count": 3,
      "metadata": {
        "id": "-9uqUP4hhbY5"
      },
      "outputs": [],
      "source": [
        "import os\n",
        "os.environ['KAGGLE_CONFIG_DIR'] = \"/content/gdrive/My Drive/Kaggle\"\n",
        "# /content/gdrive/My Drive/Kaggle is the path where kaggle.json is present in the Google Drive"
      ]
    },
    {
      "cell_type": "code",
      "execution_count": 4,
      "metadata": {
        "colab": {
          "base_uri": "https://localhost:8080/"
        },
        "id": "yTuafX0Mho8y",
        "outputId": "24a3d2be-24db-4b56-d4d0-6234cb35d32a"
      },
      "outputs": [
        {
          "name": "stdout",
          "output_type": "stream",
          "text": [
            "/content/gdrive/My Drive/Kaggle\n"
          ]
        }
      ],
      "source": [
        "#changing the working directory\n",
        "%cd /content/gdrive/My Drive/Kaggle\n",
        "#Check the present working directory using pwd command"
      ]
    },
    {
      "cell_type": "markdown",
      "metadata": {
        "id": "9P9eL-ffhrLa"
      },
      "source": [
        "Fin código de importación de Dataset de Kaggle"
      ]
    },
    {
      "cell_type": "code",
      "execution_count": 5,
      "metadata": {
        "colab": {
          "base_uri": "https://localhost:8080/",
          "height": 115,
          "referenced_widgets": [
            "6cb411fc539a4d30a5b984cb90f64e97",
            "865dc97a5a7344908c11591ed11f44a6",
            "4667958ee78a41699efa4ec8f8ac848d",
            "017ac802cbc245d9a6018c83ba5e9ecd",
            "12229dc741f24676b300ae246d33426c",
            "b5e906262f4945cab35fc900b7acc814",
            "6bddd6245e1a40ad99b853fca14b72c2",
            "2c24473a9fd44b33aa32186c7a93a75a",
            "91ea1e3cf7f94b3f89de7a85bfde4bc4",
            "8cd146abd1344679acfcfc3870e22788",
            "7df52bd6e31f418595c4d1eca9d6e687",
            "d0af26c1931140c78a9c8fe6ed58aa1a",
            "0a67e8f5e69442f49267d5f0d88bec29",
            "96004e0b27c048f4860838286565e69c",
            "88358c4c9a6d4148b82fbf5175093f89",
            "9637d42a33da49f28d7b78a6f8733d7a"
          ]
        },
        "id": "MEJGMQc0PmQ3",
        "outputId": "e2fa5cc7-146c-47f8-abcc-07f6b637ac21"
      },
      "outputs": [
        {
          "data": {
            "application/vnd.jupyter.widget-view+json": {
              "model_id": "6cb411fc539a4d30a5b984cb90f64e97",
              "version_major": 2,
              "version_minor": 0
            },
            "text/plain": [
              "HBox(children=(FloatProgress(value=0.0, max=155.0), HTML(value='')))"
            ]
          },
          "metadata": {
            "tags": []
          },
          "output_type": "display_data"
        },
        {
          "name": "stdout",
          "output_type": "stream",
          "text": [
            "\n"
          ]
        },
        {
          "data": {
            "application/vnd.jupyter.widget-view+json": {
              "model_id": "91ea1e3cf7f94b3f89de7a85bfde4bc4",
              "version_major": 2,
              "version_minor": 0
            },
            "text/plain": [
              "HBox(children=(FloatProgress(value=0.0, max=98.0), HTML(value='')))"
            ]
          },
          "metadata": {
            "tags": []
          },
          "output_type": "display_data"
        },
        {
          "name": "stdout",
          "output_type": "stream",
          "text": [
            "\n"
          ]
        }
      ],
      "source": [
        "os.chdir('/content/gdrive/My Drive/Kaggle/yes')\n",
        "X = []\n",
        "y = []\n",
        "for i in tqdm(os.listdir()):\n",
        "      img = cv2.imread(i)   \n",
        "      img = cv2.resize(img,(28,28))\n",
        "      X.append(img)\n",
        "      y.append((i[0:1]))\n",
        "os.chdir('/content/gdrive/My Drive/Kaggle/no')\n",
        "for i in tqdm(os.listdir()):\n",
        "      img = cv2.imread(i)   \n",
        "      img = cv2.resize(img,(28,28))\n",
        "      X.append(img)\n",
        "for i in range(1,99):\n",
        "    y.append('N')"
      ]
    },
    {
      "cell_type": "code",
      "execution_count": 6,
      "metadata": {
        "colab": {
          "base_uri": "https://localhost:8080/",
          "height": 152
        },
        "id": "QLGW2Zq-PplV",
        "outputId": "8e201841-fae7-4130-ac83-278dab1ec998"
      },
      "outputs": [
        {
          "data": {
            "image/png": "[encoded data removed]",
            "text/plain": [
              "<Figure size 720x720 with 4 Axes>"
            ]
          },
          "metadata": {
            "needs_background": "light",
            "tags": []
          },
          "output_type": "display_data"
        }
      ],
      "source": [
        "%matplotlib inline\n",
        "import matplotlib.pyplot as plt\n",
        "plt.figure(figsize=(10, 10))\n",
        "for i in range(4):\n",
        "    plt.subplot(1, 4, i+1)\n",
        "    plt.imshow(X[i], cmap=\"gray\")\n",
        "    plt.axis('off')\n",
        "plt.show()"
      ]
    },
    {
      "cell_type": "code",
      "execution_count": 7,
      "metadata": {
        "colab": {
          "base_uri": "https://localhost:8080/"
        },
        "id": "ZKWKAiCTSSu5",
        "outputId": "0aa4beca-a058-4c4b-e2d1-46b507a8c614"
      },
      "outputs": [
        {
          "name": "stdout",
          "output_type": "stream",
          "text": [
            "Shape of an image in X_train:  (28, 28, 3)\n",
            "Shape of an image in X_test:  (28, 28, 3)\n"
          ]
        }
      ],
      "source": [
        "X_train, X_test, y_train, y_test = train_test_split(X, y, test_size=0.33, random_state=42)\n",
        "print (\"Shape of an image in X_train: \", X_train[0].shape)\n",
        "print (\"Shape of an image in X_test: \", X_test[0].shape)"
      ]
    },
    {
      "cell_type": "code",
      "execution_count": 8,
      "metadata": {
        "id": "6akPLb5BST6t"
      },
      "outputs": [],
      "source": [
        "le = preprocessing.LabelEncoder()\n",
        "y_train = le.fit_transform(y_train)\n",
        "y_test = le.fit_transform(y_test)\n",
        "y_train = tf.keras.utils.to_categorical(y_train, num_classes=2)\n",
        "y_test = tf.keras.utils.to_categorical(y_test, num_classes=2)\n",
        "y_train = np.array(y_train)\n",
        "X_train = np.array(X_train)\n",
        "y_test = np.array(y_test)\n",
        "X_test = np.array(X_test) "
      ]
    },
    {
      "cell_type": "code",
      "execution_count": 9,
      "metadata": {
        "colab": {
          "base_uri": "https://localhost:8080/"
        },
        "id": "qr5B2VzSSW7c",
        "outputId": "cad73621-e199-4fa8-ca82-2c843f5c2703"
      },
      "outputs": [
        {
          "name": "stdout",
          "output_type": "stream",
          "text": [
            "X_train Shape:  (169, 28, 28, 3)\n",
            "X_test Shape:  (84, 28, 28, 3)\n",
            "y_train Shape:  (169, 2)\n",
            "y_test Shape:  (84, 2)\n"
          ]
        },
        {
          "data": {
            "text/plain": [
              "(None, None, None, None)"
            ]
          },
          "execution_count": 9,
          "metadata": {
            "tags": []
          },
          "output_type": "execute_result"
        }
      ],
      "source": [
        "print(\"X_train Shape: \", X_train.shape), print(\"X_test Shape: \", X_test.shape), print(\"y_train Shape: \", y_train.shape), print(\"y_test Shape: \", y_test.shape)\n"
      ]
    },
    {
      "cell_type": "code",
      "execution_count": 11,
      "metadata": {
        "id": "7KBEsLUfSaut"
      },
      "outputs": [],
      "source": [
        "m1=Sequential()\n",
        "m1.add(BatchNormalization(input_shape = (28,28,3)))\n",
        "m1.add(Convolution2D(32, (3,3), activation ='relu', input_shape = (28, 28, 3))) \n",
        "m1.add(MaxPooling2D(pool_size=2))\n",
        "m1.add(Convolution2D(filters=64, kernel_size=4, padding='same', activation='relu'))\n",
        "m1.add(MaxPooling2D(pool_size=2))\n",
        "m1.add(Convolution2D(filters=128, kernel_size=3, padding='same', activation='relu'))\n",
        "m1.add(MaxPooling2D(pool_size=2))\n",
        "m1.add(Convolution2D(filters=128, kernel_size=2, padding='same', activation='relu'))\n",
        "m1.add(MaxPooling2D(pool_size=2))\n",
        "m1.add(Dropout(0.25))\n",
        "m1.add(Flatten()) \n",
        "m1.add(Dense(units=128,activation = 'relu'))\n",
        "m1.add(Dense(units = 64, activation = 'relu'))\n",
        "m1.add(Dense(units = 32, activation = 'relu'))\n",
        "m1.add(Dense(units = 2, activation = 'softmax'))"
      ]
    },
    {
      "cell_type": "code",
      "execution_count": 12,
      "metadata": {
        "id": "VDkCXDnrSeYL"
      },
      "outputs": [],
      "source": [
        "m1.compile(optimizer='adam', loss = 'categorical_crossentropy',metrics = ['accuracy'])"
      ]
    },
    {
      "cell_type": "code",
      "execution_count": 13,
      "metadata": {
        "colab": {
          "base_uri": "https://localhost:8080/"
        },
        "id": "E0Jp8gvNSh14",
        "outputId": "086c9727-9d79-43b1-c721-66a579594a81"
      },
      "outputs": [
        {
          "name": "stdout",
          "output_type": "stream",
          "text": [
            "Epoch 1/50\n",
            "6/6 [==============================] - 0s 58ms/step - loss: 0.6495 - accuracy: 0.6568 - val_loss: 4.0284 - val_accuracy: 0.6071\n",
            "Epoch 2/50\n",
            "6/6 [==============================] - 0s 7ms/step - loss: 0.7576 - accuracy: 0.6272 - val_loss: 0.5964 - val_accuracy: 0.7976\n",
            "Epoch 3/50\n",
            "6/6 [==============================] - 0s 7ms/step - loss: 0.6614 - accuracy: 0.6450 - val_loss: 0.6688 - val_accuracy: 0.6071\n",
            "Epoch 4/50\n",
            "6/6 [==============================] - 0s 7ms/step - loss: 0.6212 - accuracy: 0.6627 - val_loss: 0.8241 - val_accuracy: 0.6071\n",
            "Epoch 5/50\n",
            "6/6 [==============================] - 0s 7ms/step - loss: 0.5740 - accuracy: 0.7396 - val_loss: 1.3075 - val_accuracy: 0.6071\n",
            "Epoch 6/50\n",
            "6/6 [==============================] - 0s 7ms/step - loss: 0.5115 - accuracy: 0.7456 - val_loss: 1.1064 - val_accuracy: 0.6310\n",
            "Epoch 7/50\n",
            "6/6 [==============================] - 0s 7ms/step - loss: 0.4854 - accuracy: 0.7870 - val_loss: 1.4178 - val_accuracy: 0.6071\n",
            "Epoch 8/50\n",
            "6/6 [==============================] - 0s 7ms/step - loss: 0.5073 - accuracy: 0.7870 - val_loss: 0.6510 - val_accuracy: 0.6429\n",
            "Epoch 9/50\n",
            "6/6 [==============================] - 0s 7ms/step - loss: 0.4217 - accuracy: 0.8225 - val_loss: 1.0835 - val_accuracy: 0.6310\n",
            "Epoch 10/50\n",
            "6/6 [==============================] - 0s 7ms/step - loss: 0.4339 - accuracy: 0.8107 - val_loss: 0.6199 - val_accuracy: 0.7024\n",
            "Epoch 11/50\n",
            "6/6 [==============================] - 0s 7ms/step - loss: 0.3320 - accuracy: 0.8639 - val_loss: 0.6206 - val_accuracy: 0.7143\n",
            "Epoch 12/50\n",
            "6/6 [==============================] - 0s 7ms/step - loss: 0.3208 - accuracy: 0.8639 - val_loss: 0.9222 - val_accuracy: 0.6667\n",
            "Epoch 13/50\n",
            "6/6 [==============================] - 0s 7ms/step - loss: 0.2563 - accuracy: 0.8935 - val_loss: 0.3981 - val_accuracy: 0.8810\n",
            "Epoch 14/50\n",
            "6/6 [==============================] - 0s 8ms/step - loss: 0.3220 - accuracy: 0.8462 - val_loss: 0.4784 - val_accuracy: 0.7619\n",
            "Epoch 15/50\n",
            "6/6 [==============================] - 0s 7ms/step - loss: 0.1601 - accuracy: 0.9408 - val_loss: 0.3952 - val_accuracy: 0.7738\n",
            "Epoch 16/50\n",
            "6/6 [==============================] - 0s 7ms/step - loss: 0.1613 - accuracy: 0.9408 - val_loss: 0.4224 - val_accuracy: 0.8333\n",
            "Epoch 17/50\n",
            "6/6 [==============================] - 0s 8ms/step - loss: 0.1455 - accuracy: 0.9408 - val_loss: 0.3423 - val_accuracy: 0.8929\n",
            "Epoch 18/50\n",
            "6/6 [==============================] - 0s 7ms/step - loss: 0.0767 - accuracy: 0.9822 - val_loss: 0.4648 - val_accuracy: 0.8333\n",
            "Epoch 19/50\n",
            "6/6 [==============================] - 0s 7ms/step - loss: 0.0978 - accuracy: 0.9704 - val_loss: 0.3625 - val_accuracy: 0.8810\n",
            "Epoch 20/50\n",
            "6/6 [==============================] - 0s 7ms/step - loss: 0.0468 - accuracy: 0.9941 - val_loss: 0.6014 - val_accuracy: 0.7738\n",
            "Epoch 21/50\n",
            "6/6 [==============================] - 0s 8ms/step - loss: 0.0792 - accuracy: 0.9763 - val_loss: 0.3957 - val_accuracy: 0.8810\n",
            "Epoch 22/50\n",
            "6/6 [==============================] - 0s 7ms/step - loss: 0.0413 - accuracy: 0.9822 - val_loss: 0.6350 - val_accuracy: 0.8214\n",
            "Epoch 23/50\n",
            "6/6 [==============================] - 0s 8ms/step - loss: 0.0379 - accuracy: 0.9822 - val_loss: 0.3828 - val_accuracy: 0.8690\n",
            "Epoch 24/50\n",
            "6/6 [==============================] - 0s 7ms/step - loss: 0.0125 - accuracy: 1.0000 - val_loss: 0.3958 - val_accuracy: 0.8810\n",
            "Epoch 25/50\n",
            "6/6 [==============================] - 0s 7ms/step - loss: 0.0072 - accuracy: 1.0000 - val_loss: 0.3964 - val_accuracy: 0.8810\n",
            "Epoch 26/50\n",
            "6/6 [==============================] - 0s 7ms/step - loss: 0.0048 - accuracy: 1.0000 - val_loss: 0.4080 - val_accuracy: 0.8810\n",
            "Epoch 27/50\n",
            "6/6 [==============================] - 0s 7ms/step - loss: 0.0028 - accuracy: 1.0000 - val_loss: 0.4222 - val_accuracy: 0.8929\n",
            "Epoch 28/50\n",
            "6/6 [==============================] - 0s 7ms/step - loss: 0.0018 - accuracy: 1.0000 - val_loss: 0.5057 - val_accuracy: 0.8810\n",
            "Epoch 29/50\n",
            "6/6 [==============================] - 0s 7ms/step - loss: 0.0023 - accuracy: 1.0000 - val_loss: 0.4713 - val_accuracy: 0.8810\n",
            "Epoch 30/50\n",
            "6/6 [==============================] - 0s 8ms/step - loss: 0.0118 - accuracy: 1.0000 - val_loss: 0.5786 - val_accuracy: 0.8690\n",
            "Epoch 31/50\n",
            "6/6 [==============================] - 0s 7ms/step - loss: 0.0225 - accuracy: 0.9882 - val_loss: 0.5225 - val_accuracy: 0.8452\n",
            "Epoch 32/50\n",
            "6/6 [==============================] - 0s 7ms/step - loss: 0.0458 - accuracy: 0.9882 - val_loss: 0.5641 - val_accuracy: 0.8571\n",
            "Epoch 33/50\n",
            "6/6 [==============================] - 0s 8ms/step - loss: 0.0113 - accuracy: 1.0000 - val_loss: 0.4706 - val_accuracy: 0.8452\n",
            "Epoch 34/50\n",
            "6/6 [==============================] - 0s 7ms/step - loss: 0.0355 - accuracy: 0.9882 - val_loss: 0.4902 - val_accuracy: 0.8571\n",
            "Epoch 35/50\n",
            "6/6 [==============================] - 0s 7ms/step - loss: 0.0312 - accuracy: 0.9882 - val_loss: 0.7374 - val_accuracy: 0.8214\n",
            "Epoch 36/50\n",
            "6/6 [==============================] - 0s 7ms/step - loss: 0.0308 - accuracy: 0.9941 - val_loss: 0.6447 - val_accuracy: 0.8452\n",
            "Epoch 37/50\n",
            "6/6 [==============================] - 0s 7ms/step - loss: 0.0209 - accuracy: 0.9941 - val_loss: 0.7353 - val_accuracy: 0.8095\n",
            "Epoch 38/50\n",
            "6/6 [==============================] - 0s 8ms/step - loss: 0.0357 - accuracy: 0.9941 - val_loss: 0.5545 - val_accuracy: 0.8690\n",
            "Epoch 39/50\n",
            "6/6 [==============================] - 0s 8ms/step - loss: 0.0100 - accuracy: 1.0000 - val_loss: 0.5358 - val_accuracy: 0.8214\n",
            "Epoch 40/50\n",
            "6/6 [==============================] - 0s 8ms/step - loss: 0.0201 - accuracy: 0.9941 - val_loss: 0.4309 - val_accuracy: 0.8929\n",
            "Epoch 41/50\n",
            "6/6 [==============================] - 0s 7ms/step - loss: 0.0119 - accuracy: 1.0000 - val_loss: 0.5462 - val_accuracy: 0.8690\n",
            "Epoch 42/50\n",
            "6/6 [==============================] - 0s 7ms/step - loss: 0.0408 - accuracy: 0.9882 - val_loss: 0.5050 - val_accuracy: 0.8690\n",
            "Epoch 43/50\n",
            "6/6 [==============================] - 0s 7ms/step - loss: 0.0033 - accuracy: 1.0000 - val_loss: 0.5956 - val_accuracy: 0.8452\n",
            "Epoch 44/50\n",
            "6/6 [==============================] - 0s 8ms/step - loss: 0.0176 - accuracy: 0.9882 - val_loss: 0.8888 - val_accuracy: 0.7857\n",
            "Epoch 45/50\n",
            "6/6 [==============================] - 0s 7ms/step - loss: 0.0386 - accuracy: 0.9822 - val_loss: 0.6442 - val_accuracy: 0.8452\n",
            "Epoch 46/50\n",
            "6/6 [==============================] - 0s 7ms/step - loss: 0.0402 - accuracy: 0.9941 - val_loss: 0.5216 - val_accuracy: 0.8571\n",
            "Epoch 47/50\n",
            "6/6 [==============================] - 0s 7ms/step - loss: 0.0076 - accuracy: 1.0000 - val_loss: 0.4361 - val_accuracy: 0.8929\n",
            "Epoch 48/50\n",
            "6/6 [==============================] - 0s 7ms/step - loss: 0.0030 - accuracy: 1.0000 - val_loss: 0.4063 - val_accuracy: 0.8690\n",
            "Epoch 49/50\n",
            "6/6 [==============================] - 0s 7ms/step - loss: 0.0047 - accuracy: 1.0000 - val_loss: 0.4103 - val_accuracy: 0.8929\n",
            "Epoch 50/50\n",
            "6/6 [==============================] - 0s 8ms/step - loss: 9.1869e-04 - accuracy: 1.0000 - val_loss: 0.4766 - val_accuracy: 0.8810\n"
          ]
        }
      ],
      "source": [
        "history = m1.fit(X_train,y_train,\n",
        "                    epochs=50, \n",
        "                    validation_data=(X_test,y_test),\n",
        "                    verbose = 1,\n",
        "                    initial_epoch=0)"
      ]
    },
    {
      "cell_type": "code",
      "execution_count": 14,
      "metadata": {
        "colab": {
          "base_uri": "https://localhost:8080/",
          "height": 312
        },
        "id": "6aqeArPzSlV7",
        "outputId": "cc57013a-004a-489e-88b3-1c65fd24d24f"
      },
      "outputs": [
        {
          "name": "stdout",
          "output_type": "stream",
          "text": [
            "3/3 [==============================] - 0s 3ms/step - loss: 0.4766 - accuracy: 0.8810\n"
          ]
        },
        {
          "data": {
            "image/png": "[encoded data removed]",
            "text/plain": [
              "<Figure size 432x288 with 1 Axes>"
            ]
          },
          "metadata": {
            "needs_background": "light",
            "tags": []
          },
          "output_type": "display_data"
        }
      ],
      "source": [
        "m1.evaluate(X_test,y_test)\n",
        "plt.plot(history.history['val_accuracy'])\n",
        "plt.title('model accuracy')\n",
        "plt.ylabel('accuracy')\n",
        "plt.xlabel('epoch')\n",
        "plt.legend(['train', 'validation'], loc='upper left')\n",
        "plt.show()"
      ]
    },
    {
      "cell_type": "code",
      "execution_count": 15,
      "metadata": {
        "colab": {
          "base_uri": "https://localhost:8080/",
          "height": 282
        },
        "id": "Tr_yQiBjSoUu",
        "outputId": "7ea6b585-24ec-4336-a070-c222bcc6522c"
      },
      "outputs": [
        {
          "data": {
            "text/plain": [
              "[<matplotlib.lines.Line2D at 0x7fcb2a110160>]"
            ]
          },
          "execution_count": 15,
          "metadata": {
            "tags": []
          },
          "output_type": "execute_result"
        },
        {
          "data": {
            "image/png": "[encoded data removed]",
            "text/plain": [
              "<Figure size 432x288 with 1 Axes>"
            ]
          },
          "metadata": {
            "needs_background": "light",
            "tags": []
          },
          "output_type": "display_data"
        }
      ],
      "source": [
        "plt.plot(history.history['accuracy'])"
      ]
    },
    {
      "cell_type": "code",
      "execution_count": 16,
      "metadata": {
        "colab": {
          "base_uri": "https://localhost:8080/",
          "height": 295
        },
        "id": "pou9pWbPSrV7",
        "outputId": "7dea6364-d98f-4d6d-e37e-8a630c295319"
      },
      "outputs": [
        {
          "data": {
            "image/png": "[encoded data removed]",
            "text/plain": [
              "<Figure size 432x288 with 1 Axes>"
            ]
          },
          "metadata": {
            "needs_background": "light",
            "tags": []
          },
          "output_type": "display_data"
        }
      ],
      "source": [
        "plt.plot(history.history['loss'])\n",
        "plt.plot(history.history['val_loss'])\n",
        "plt.title('model loss')\n",
        "plt.ylabel('loss')\n",
        "plt.xlabel('epoch')\n",
        "plt.legend(['train', 'validation'], loc='upper left')\n",
        "plt.show()"
      ]
    },
    {
      "cell_type": "code",
      "execution_count": 17,
      "metadata": {
        "colab": {
          "base_uri": "https://localhost:8080/",
          "height": 757
        },
        "id": "0b-vxuMsSuf6",
        "outputId": "f9e01250-0d72-4de2-87d7-292692afb22a"
      },
      "outputs": [
        {
          "name": "stdout",
          "output_type": "stream",
          "text": [
            "WARNING:tensorflow:From <ipython-input-17-0a6222f0d000>:1: Sequential.predict_classes (from tensorflow.python.keras.engine.sequential) is deprecated and will be removed after 2021-01-01.\n",
            "Instructions for updating:\n",
            "Please use instead:* `np.argmax(model.predict(x), axis=-1)`,   if your model does multi-class classification   (e.g. if it uses a `softmax` last-layer activation).* `(model.predict(x) > 0.5).astype(\"int32\")`,   if your model does binary classification   (e.g. if it uses a `sigmoid` last-layer activation).\n"
          ]
        },
        {
          "data": {
            "image/png": "[encoded data removed]",
            "text/plain": [
              "<Figure size 864x864 with 4 Axes>"
            ]
          },
          "metadata": {
            "needs_background": "light",
            "tags": []
          },
          "output_type": "display_data"
        }
      ],
      "source": [
        "y_predicted=m1.predict_classes(X_test)\n",
        "y_actual=np.argmax(y_test,axis=1)\n",
        "L = 2\n",
        "W = 2\n",
        "fig, axes = plt.subplots(L, W, figsize = (12,12))\n",
        "axes = axes.ravel()\n",
        "for i in np.arange(0, L * W):  \n",
        "    axes[i].imshow(X_test[i])\n",
        "    axes[i].set_title(f\"Prediction Class = {y_predicted[i]:0.1f}\\n Actual Label = {y_actual[i]:0.1f}\")\n",
        "    axes[i].axis('off')\n",
        "plt.subplots_adjust(wspace=0.5)"
      ]
    },
    {
      "cell_type": "code",
      "execution_count": 18,
      "metadata": {
        "colab": {
          "base_uri": "https://localhost:8080/"
        },
        "id": "sYZn02iVSyE0",
        "outputId": "8fad9375-fb2a-471d-d1f7-23d6518938c1"
      },
      "outputs": [
        {
          "name": "stdout",
          "output_type": "stream",
          "text": [
            "              precision    recall  f1-score   support\n",
            "\n",
            "           0       0.93      0.76      0.83        33\n",
            "           1       0.86      0.96      0.91        51\n",
            "\n",
            "    accuracy                           0.88        84\n",
            "   macro avg       0.89      0.86      0.87        84\n",
            "weighted avg       0.89      0.88      0.88        84\n",
            "\n"
          ]
        }
      ],
      "source": [
        "from sklearn.metrics import classification_report\n",
        "print(classification_report(y_actual, y_predicted))"
      ]
    },
    {
      "cell_type": "code",
      "execution_count": 19,
      "metadata": {
        "colab": {
          "base_uri": "https://localhost:8080/"
        },
        "id": "LG3LuvvP5Wem",
        "outputId": "6c98a689-49a1-4128-e6b5-6facad7334ff"
      },
      "outputs": [
        {
          "name": "stdout",
          "output_type": "stream",
          "text": [
            "[[25  8]\n",
            " [ 2 49]]\n"
          ]
        }
      ],
      "source": [
        "#confusion_matrix to check in accuracy \n",
        "from sklearn.metrics import confusion_matrix\n",
        "cm=confusion_matrix(y_actual, y_predicted)\n",
        "print(cm)"
      ]
    },
    {
      "cell_type": "code",
      "execution_count": 20,
      "metadata": {
        "id": "jhVXBbccSai_"
      },
      "outputs": [],
      "source": [
        "# Métricas\n",
        "\n",
        "presicion = 0\n",
        "recall = 0\n",
        "f1score = 0 \n",
        "accuracy = 0\n"
      ]
    },
    {
      "cell_type": "code",
      "execution_count": 24,
      "metadata": {
        "colab": {
          "base_uri": "https://localhost:8080/"
        },
        "id": "U9BSVi9oV7pr",
        "outputId": "36264fce-b9d5-45c8-ed9d-c44297e0325c"
      },
      "outputs": [
        {
          "name": "stdout",
          "output_type": "stream",
          "text": [
            "Precision:  0.9259259259259259\n",
            "Recall:  0.7575757575757576\n",
            "F1-Score:  0.8333333333333334\n",
            "Accuracy 0.7142857142857143\n"
          ]
        }
      ],
      "source": [
        "# Para 0\n",
        "\n",
        "truePositive = 25\n",
        "trueNegative = 0 #NO HAY\n",
        "falsePositive = 2\n",
        "falseNegative = 8\n",
        "\n",
        "presicion = truePositive/(truePositive + falsePositive)\n",
        "recall = truePositive/(truePositive + falseNegative)\n",
        "f1score = 2*presicion*recall/(presicion + recall)\n",
        "accuracy = (truePositive + trueNegative)/(truePositive + falsePositive + trueNegative + falseNegative)\n",
        "\n",
        "print(\"Precision: \", presicion),\n",
        "print(\"Recall: \", recall), \n",
        "print(\"F1-Score: \", f1score), \n",
        "print(\"Accuracy\", accuracy)"
      ]
    },
    {
      "cell_type": "code",
      "execution_count": 25,
      "metadata": {
        "colab": {
          "base_uri": "https://localhost:8080/"
        },
        "id": "CZpXeeP4VxGy",
        "outputId": "72647e69-9d6f-4b23-b520-668b0a62381a"
      },
      "outputs": [
        {
          "name": "stdout",
          "output_type": "stream",
          "text": [
            "Precision:  0.8596491228070176\n",
            "Recall:  0.9607843137254902\n",
            "F1-Score:  0.9074074074074074\n",
            "Accuracy 0.8305084745762712\n"
          ]
        }
      ],
      "source": [
        "# Para 1\n",
        "\n",
        "truePositive = 49\n",
        "trueNegative = 0 #NO HAY\n",
        "falsePositive = 8\n",
        "falseNegative = 2\n",
        "\n",
        "presicion = truePositive/(truePositive + falsePositive)\n",
        "recall = truePositive/(truePositive + falseNegative)\n",
        "f1score = 2*presicion*recall/(presicion + recall)\n",
        "accuracy = (truePositive + trueNegative)/(truePositive + falsePositive + trueNegative + falseNegative)\n",
        "\n",
        "print(\"Precision: \", presicion),\n",
        "print(\"Recall: \", recall), \n",
        "print(\"F1-Score: \", f1score), \n",
        "print(\"Accuracy\", accuracy)"
      ]
    }
  ],
  "metadata": {
    "accelerator": "GPU",
    "colab": {
      "collapsed_sections": [],
      "name": "Brain1.ipynb",
      "provenance": []
    },
    "kernelspec": {
      "display_name": "Python 3",
      "name": "python3"
    },
    "widgets": {
      "application/vnd.jupyter.widget-state+json": {
        "017ac802cbc245d9a6018c83ba5e9ecd": {
          "model_module": "@jupyter-widgets/controls",
          "model_name": "HTMLModel",
          "state": {
            "_dom_classes": [],
            "_model_module": "@jupyter-widgets/controls",
            "_model_module_version": "1.5.0",
            "_model_name": "HTMLModel",
            "_view_count": null,
            "_view_module": "@jupyter-widgets/controls",
            "_view_module_version": "1.5.0",
            "_view_name": "HTMLView",
            "description": "",
            "description_tooltip": null,
            "layout": "IPY_MODEL_2c24473a9fd44b33aa32186c7a93a75a",
            "placeholder": "​",
            "style": "IPY_MODEL_6bddd6245e1a40ad99b853fca14b72c2",
            "value": " 155/155 [01:02&lt;00:00,  2.48it/s]"
          }
        },
        "0a67e8f5e69442f49267d5f0d88bec29": {
          "model_module": "@jupyter-widgets/controls",
          "model_name": "ProgressStyleModel",
          "state": {
            "_model_module": "@jupyter-widgets/controls",
            "_model_module_version": "1.5.0",
            "_model_name": "ProgressStyleModel",
            "_view_count": null,
            "_view_module": "@jupyter-widgets/base",
            "_view_module_version": "1.2.0",
            "_view_name": "StyleView",
            "bar_color": null,
            "description_width": "initial"
          }
        },
        "12229dc741f24676b300ae246d33426c": {
          "model_module": "@jupyter-widgets/controls",
          "model_name": "ProgressStyleModel",
          "state": {
            "_model_module": "@jupyter-widgets/controls",
            "_model_module_version": "1.5.0",
            "_model_name": "ProgressStyleModel",
            "_view_count": null,
            "_view_module": "@jupyter-widgets/base",
            "_view_module_version": "1.2.0",
            "_view_name": "StyleView",
            "bar_color": null,
            "description_width": "initial"
          }
        },
        "2c24473a9fd44b33aa32186c7a93a75a": {
          "model_module": "@jupyter-widgets/base",
          "model_name": "LayoutModel",
          "state": {
            "_model_module": "@jupyter-widgets/base",
            "_model_module_version": "1.2.0",
            "_model_name": "LayoutModel",
            "_view_count": null,
            "_view_module": "@jupyter-widgets/base",
            "_view_module_version": "1.2.0",
            "_view_name": "LayoutView",
            "align_content": null,
            "align_items": null,
            "align_self": null,
            "border": null,
            "bottom": null,
            "display": null,
            "flex": null,
            "flex_flow": null,
            "grid_area": null,
            "grid_auto_columns": null,
            "grid_auto_flow": null,
            "grid_auto_rows": null,
            "grid_column": null,
            "grid_gap": null,
            "grid_row": null,
            "grid_template_areas": null,
            "grid_template_columns": null,
            "grid_template_rows": null,
            "height": null,
            "justify_content": null,
            "justify_items": null,
            "left": null,
            "margin": null,
            "max_height": null,
            "max_width": null,
            "min_height": null,
            "min_width": null,
            "object_fit": null,
            "object_position": null,
            "order": null,
            "overflow": null,
            "overflow_x": null,
            "overflow_y": null,
            "padding": null,
            "right": null,
            "top": null,
            "visibility": null,
            "width": null
          }
        },
        "4667958ee78a41699efa4ec8f8ac848d": {
          "model_module": "@jupyter-widgets/controls",
          "model_name": "FloatProgressModel",
          "state": {
            "_dom_classes": [],
            "_model_module": "@jupyter-widgets/controls",
            "_model_module_version": "1.5.0",
            "_model_name": "FloatProgressModel",
            "_view_count": null,
            "_view_module": "@jupyter-widgets/controls",
            "_view_module_version": "1.5.0",
            "_view_name": "ProgressView",
            "bar_style": "success",
            "description": "100%",
            "description_tooltip": null,
            "layout": "IPY_MODEL_b5e906262f4945cab35fc900b7acc814",
            "max": 155,
            "min": 0,
            "orientation": "horizontal",
            "style": "IPY_MODEL_12229dc741f24676b300ae246d33426c",
            "value": 155
          }
        },
        "6bddd6245e1a40ad99b853fca14b72c2": {
          "model_module": "@jupyter-widgets/controls",
          "model_name": "DescriptionStyleModel",
          "state": {
            "_model_module": "@jupyter-widgets/controls",
            "_model_module_version": "1.5.0",
            "_model_name": "DescriptionStyleModel",
            "_view_count": null,
            "_view_module": "@jupyter-widgets/base",
            "_view_module_version": "1.2.0",
            "_view_name": "StyleView",
            "description_width": ""
          }
        },
        "6cb411fc539a4d30a5b984cb90f64e97": {
          "model_module": "@jupyter-widgets/controls",
          "model_name": "HBoxModel",
          "state": {
            "_dom_classes": [],
            "_model_module": "@jupyter-widgets/controls",
            "_model_module_version": "1.5.0",
            "_model_name": "HBoxModel",
            "_view_count": null,
            "_view_module": "@jupyter-widgets/controls",
            "_view_module_version": "1.5.0",
            "_view_name": "HBoxView",
            "box_style": "",
            "children": [
              "IPY_MODEL_4667958ee78a41699efa4ec8f8ac848d",
              "IPY_MODEL_017ac802cbc245d9a6018c83ba5e9ecd"
            ],
            "layout": "IPY_MODEL_865dc97a5a7344908c11591ed11f44a6"
          }
        },
        "7df52bd6e31f418595c4d1eca9d6e687": {
          "model_module": "@jupyter-widgets/controls",
          "model_name": "FloatProgressModel",
          "state": {
            "_dom_classes": [],
            "_model_module": "@jupyter-widgets/controls",
            "_model_module_version": "1.5.0",
            "_model_name": "FloatProgressModel",
            "_view_count": null,
            "_view_module": "@jupyter-widgets/controls",
            "_view_module_version": "1.5.0",
            "_view_name": "ProgressView",
            "bar_style": "success",
            "description": "100%",
            "description_tooltip": null,
            "layout": "IPY_MODEL_96004e0b27c048f4860838286565e69c",
            "max": 98,
            "min": 0,
            "orientation": "horizontal",
            "style": "IPY_MODEL_0a67e8f5e69442f49267d5f0d88bec29",
            "value": 98
          }
        },
        "865dc97a5a7344908c11591ed11f44a6": {
          "model_module": "@jupyter-widgets/base",
          "model_name": "LayoutModel",
          "state": {
            "_model_module": "@jupyter-widgets/base",
            "_model_module_version": "1.2.0",
            "_model_name": "LayoutModel",
            "_view_count": null,
            "_view_module": "@jupyter-widgets/base",
            "_view_module_version": "1.2.0",
            "_view_name": "LayoutView",
            "align_content": null,
            "align_items": null,
            "align_self": null,
            "border": null,
            "bottom": null,
            "display": null,
            "flex": null,
            "flex_flow": null,
            "grid_area": null,
            "grid_auto_columns": null,
            "grid_auto_flow": null,
            "grid_auto_rows": null,
            "grid_column": null,
            "grid_gap": null,
            "grid_row": null,
            "grid_template_areas": null,
            "grid_template_columns": null,
            "grid_template_rows": null,
            "height": null,
            "justify_content": null,
            "justify_items": null,
            "left": null,
            "margin": null,
            "max_height": null,
            "max_width": null,
            "min_height": null,
            "min_width": null,
            "object_fit": null,
            "object_position": null,
            "order": null,
            "overflow": null,
            "overflow_x": null,
            "overflow_y": null,
            "padding": null,
            "right": null,
            "top": null,
            "visibility": null,
            "width": null
          }
        },
        "88358c4c9a6d4148b82fbf5175093f89": {
          "model_module": "@jupyter-widgets/controls",
          "model_name": "DescriptionStyleModel",
          "state": {
            "_model_module": "@jupyter-widgets/controls",
            "_model_module_version": "1.5.0",
            "_model_name": "DescriptionStyleModel",
            "_view_count": null,
            "_view_module": "@jupyter-widgets/base",
            "_view_module_version": "1.2.0",
            "_view_name": "StyleView",
            "description_width": ""
          }
        },
        "8cd146abd1344679acfcfc3870e22788": {
          "model_module": "@jupyter-widgets/base",
          "model_name": "LayoutModel",
          "state": {
            "_model_module": "@jupyter-widgets/base",
            "_model_module_version": "1.2.0",
            "_model_name": "LayoutModel",
            "_view_count": null,
            "_view_module": "@jupyter-widgets/base",
            "_view_module_version": "1.2.0",
            "_view_name": "LayoutView",
            "align_content": null,
            "align_items": null,
            "align_self": null,
            "border": null,
            "bottom": null,
            "display": null,
            "flex": null,
            "flex_flow": null,
            "grid_area": null,
            "grid_auto_columns": null,
            "grid_auto_flow": null,
            "grid_auto_rows": null,
            "grid_column": null,
            "grid_gap": null,
            "grid_row": null,
            "grid_template_areas": null,
            "grid_template_columns": null,
            "grid_template_rows": null,
            "height": null,
            "justify_content": null,
            "justify_items": null,
            "left": null,
            "margin": null,
            "max_height": null,
            "max_width": null,
            "min_height": null,
            "min_width": null,
            "object_fit": null,
            "object_position": null,
            "order": null,
            "overflow": null,
            "overflow_x": null,
            "overflow_y": null,
            "padding": null,
            "right": null,
            "top": null,
            "visibility": null,
            "width": null
          }
        },
        "91ea1e3cf7f94b3f89de7a85bfde4bc4": {
          "model_module": "@jupyter-widgets/controls",
          "model_name": "HBoxModel",
          "state": {
            "_dom_classes": [],
            "_model_module": "@jupyter-widgets/controls",
            "_model_module_version": "1.5.0",
            "_model_name": "HBoxModel",
            "_view_count": null,
            "_view_module": "@jupyter-widgets/controls",
            "_view_module_version": "1.5.0",
            "_view_name": "HBoxView",
            "box_style": "",
            "children": [
              "IPY_MODEL_7df52bd6e31f418595c4d1eca9d6e687",
              "IPY_MODEL_d0af26c1931140c78a9c8fe6ed58aa1a"
            ],
            "layout": "IPY_MODEL_8cd146abd1344679acfcfc3870e22788"
          }
        },
        "96004e0b27c048f4860838286565e69c": {
          "model_module": "@jupyter-widgets/base",
          "model_name": "LayoutModel",
          "state": {
            "_model_module": "@jupyter-widgets/base",
            "_model_module_version": "1.2.0",
            "_model_name": "LayoutModel",
            "_view_count": null,
            "_view_module": "@jupyter-widgets/base",
            "_view_module_version": "1.2.0",
            "_view_name": "LayoutView",
            "align_content": null,
            "align_items": null,
            "align_self": null,
            "border": null,
            "bottom": null,
            "display": null,
            "flex": null,
            "flex_flow": null,
            "grid_area": null,
            "grid_auto_columns": null,
            "grid_auto_flow": null,
            "grid_auto_rows": null,
            "grid_column": null,
            "grid_gap": null,
            "grid_row": null,
            "grid_template_areas": null,
            "grid_template_columns": null,
            "grid_template_rows": null,
            "height": null,
            "justify_content": null,
            "justify_items": null,
            "left": null,
            "margin": null,
            "max_height": null,
            "max_width": null,
            "min_height": null,
            "min_width": null,
            "object_fit": null,
            "object_position": null,
            "order": null,
            "overflow": null,
            "overflow_x": null,
            "overflow_y": null,
            "padding": null,
            "right": null,
            "top": null,
            "visibility": null,
            "width": null
          }
        },
        "9637d42a33da49f28d7b78a6f8733d7a": {
          "model_module": "@jupyter-widgets/base",
          "model_name": "LayoutModel",
          "state": {
            "_model_module": "@jupyter-widgets/base",
            "_model_module_version": "1.2.0",
            "_model_name": "LayoutModel",
            "_view_count": null,
            "_view_module": "@jupyter-widgets/base",
            "_view_module_version": "1.2.0",
            "_view_name": "LayoutView",
            "align_content": null,
            "align_items": null,
            "align_self": null,
            "border": null,
            "bottom": null,
            "display": null,
            "flex": null,
            "flex_flow": null,
            "grid_area": null,
            "grid_auto_columns": null,
            "grid_auto_flow": null,
            "grid_auto_rows": null,
            "grid_column": null,
            "grid_gap": null,
            "grid_row": null,
            "grid_template_areas": null,
            "grid_template_columns": null,
            "grid_template_rows": null,
            "height": null,
            "justify_content": null,
            "justify_items": null,
            "left": null,
            "margin": null,
            "max_height": null,
            "max_width": null,
            "min_height": null,
            "min_width": null,
            "object_fit": null,
            "object_position": null,
            "order": null,
            "overflow": null,
            "overflow_x": null,
            "overflow_y": null,
            "padding": null,
            "right": null,
            "top": null,
            "visibility": null,
            "width": null
          }
        },
        "b5e906262f4945cab35fc900b7acc814": {
          "model_module": "@jupyter-widgets/base",
          "model_name": "LayoutModel",
          "state": {
            "_model_module": "@jupyter-widgets/base",
            "_model_module_version": "1.2.0",
            "_model_name": "LayoutModel",
            "_view_count": null,
            "_view_module": "@jupyter-widgets/base",
            "_view_module_version": "1.2.0",
            "_view_name": "LayoutView",
            "align_content": null,
            "align_items": null,
            "align_self": null,
            "border": null,
            "bottom": null,
            "display": null,
            "flex": null,
            "flex_flow": null,
            "grid_area": null,
            "grid_auto_columns": null,
            "grid_auto_flow": null,
            "grid_auto_rows": null,
            "grid_column": null,
            "grid_gap": null,
            "grid_row": null,
            "grid_template_areas": null,
            "grid_template_columns": null,
            "grid_template_rows": null,
            "height": null,
            "justify_content": null,
            "justify_items": null,
            "left": null,
            "margin": null,
            "max_height": null,
            "max_width": null,
            "min_height": null,
            "min_width": null,
            "object_fit": null,
            "object_position": null,
            "order": null,
            "overflow": null,
            "overflow_x": null,
            "overflow_y": null,
            "padding": null,
            "right": null,
            "top": null,
            "visibility": null,
            "width": null
          }
        },
        "d0af26c1931140c78a9c8fe6ed58aa1a": {
          "model_module": "@jupyter-widgets/controls",
          "model_name": "HTMLModel",
          "state": {
            "_dom_classes": [],
            "_model_module": "@jupyter-widgets/controls",
            "_model_module_version": "1.5.0",
            "_model_name": "HTMLModel",
            "_view_count": null,
            "_view_module": "@jupyter-widgets/controls",
            "_view_module_version": "1.5.0",
            "_view_name": "HTMLView",
            "description": "",
            "description_tooltip": null,
            "layout": "IPY_MODEL_9637d42a33da49f28d7b78a6f8733d7a",
            "placeholder": "​",
            "style": "IPY_MODEL_88358c4c9a6d4148b82fbf5175093f89",
            "value": " 98/98 [00:29&lt;00:00,  3.31it/s]"
          }
        }
      }
    }
  },
  "nbformat": 4,
  "nbformat_minor": 0
}

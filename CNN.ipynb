{
  "nbformat": 4,
  "nbformat_minor": 0,
  "metadata": {
    "colab": {
      "name": "CNN.ipynb",
      "provenance": [],
      "collapsed_sections": []
    },
    "kernelspec": {
      "name": "python3",
      "display_name": "Python 3"
    },
    "accelerator": "GPU"
  },
  "cells": [
    {
      "cell_type": "code",
      "metadata": {
        "id": "Lw8EB8BMw7Za"
      },
      "source": [
        "import tensorflow as tf\n",
        "import keras\n",
        "from keras.models import Sequential\n",
        "from keras.layers import Dense, Dropout, Flatten\n",
        "from keras.layers import Conv2D, MaxPooling2D\n",
        "from tensorflow.keras import backend as K\n",
        "from keras.datasets import mnist\n",
        "(X_train, y_train), (X_test, y_test) = mnist.load_data()"
      ],
      "execution_count": 1,
      "outputs": []
    },
    {
      "cell_type": "code",
      "metadata": {
        "id": "GMux-v8Uxpn2",
        "outputId": "591a2f7d-0470-4771-f216-21e291cb8f96",
        "colab": {
          "base_uri": "https://localhost:8080/",
          "height": 551
        }
      },
      "source": [
        "import matplotlib.pyplot as plt\n",
        "fig = plt.figure()\n",
        "for i in range(9):\n",
        "  plt.subplot(3,3,i+1)\n",
        "  plt.tight_layout()\n",
        "  plt.imshow(X_train[i], cmap='gray', interpolation='none')\n",
        "  plt.title(\"Digit: {}\".format(y_train[i]))\n",
        "  plt.xticks([])\n",
        "  plt.yticks([])\n",
        "fig"
      ],
      "execution_count": 2,
      "outputs": [
        {
          "output_type": "execute_result",
          "data": {
            "image/png": "[encoded data removed]",
            "text/plain": [
              "<Figure size 432x288 with 9 Axes>"
            ]
          },
          "metadata": {
            "tags": []
          },
          "execution_count": 2
        },
        {
          "output_type": "display_data",
          "data": {
            "image/png": "[encoded data removed]",
            "text/plain": [
              "<Figure size 432x288 with 9 Axes>"
            ]
          },
          "metadata": {
            "tags": []
          }
        }
      ]
    },
    {
      "cell_type": "code",
      "metadata": {
        "id": "4qcTR2anx3zg",
        "outputId": "954522e3-e162-4eb6-fecb-84083f3dd222",
        "colab": {
          "base_uri": "https://localhost:8080/",
          "height": 282
        }
      },
      "source": [
        "plt.imshow(X_test[11], cmap=plt.cm.binary)"
      ],
      "execution_count": 3,
      "outputs": [
        {
          "output_type": "execute_result",
          "data": {
            "text/plain": [
              "<matplotlib.image.AxesImage at 0x7f26ce10a358>"
            ]
          },
          "metadata": {
            "tags": []
          },
          "execution_count": 3
        },
        {
          "output_type": "display_data",
          "data": {
            "image/png": "[encoded data removed]",
            "text/plain": [
              "<Figure size 432x288 with 1 Axes>"
            ]
          },
          "metadata": {
            "tags": [],
            "needs_background": "light"
          }
        }
      ]
    },
    {
      "cell_type": "markdown",
      "metadata": {
        "id": "9pwzvdT3yjEG"
      },
      "source": [
        "Normalización de los datos de entrada"
      ]
    },
    {
      "cell_type": "code",
      "metadata": {
        "id": "UYS7hncs5_f-",
        "outputId": "f2d9ace9-0f69-4184-ee91-2e2313e66071",
        "colab": {
          "base_uri": "https://localhost:8080/",
          "height": 34
        }
      },
      "source": [
        " X_train.shape"
      ],
      "execution_count": 4,
      "outputs": [
        {
          "output_type": "execute_result",
          "data": {
            "text/plain": [
              "(60000, 28, 28)"
            ]
          },
          "metadata": {
            "tags": []
          },
          "execution_count": 4
        }
      ]
    },
    {
      "cell_type": "code",
      "metadata": {
        "id": "e9ocsKl86cmV",
        "outputId": "6d289391-16eb-4681-851e-420f5d799992",
        "colab": {
          "base_uri": "https://localhost:8080/",
          "height": 34
        }
      },
      "source": [
        "X_test.shape"
      ],
      "execution_count": 8,
      "outputs": [
        {
          "output_type": "execute_result",
          "data": {
            "text/plain": [
              "(9984, 28, 28)"
            ]
          },
          "metadata": {
            "tags": []
          },
          "execution_count": 8
        }
      ]
    },
    {
      "cell_type": "code",
      "metadata": {
        "id": "ceD1VHbv6o4g"
      },
      "source": [
        "X_train = X_train[0:59904,:]\n",
        "X_test = X_test[0:9984,:]\n",
        "y_train = y_train[0:59904]\n",
        "y_test = y_test[0:9984]"
      ],
      "execution_count": 9,
      "outputs": []
    },
    {
      "cell_type": "code",
      "metadata": {
        "id": "8dENHjGv7ld2",
        "outputId": "78f095ff-bbe8-4227-e752-d4c4e2aec37f",
        "colab": {
          "base_uri": "https://localhost:8080/",
          "height": 34
        }
      },
      "source": [
        "X_train.shape[0]"
      ],
      "execution_count": 10,
      "outputs": [
        {
          "output_type": "execute_result",
          "data": {
            "text/plain": [
              "59904"
            ]
          },
          "metadata": {
            "tags": []
          },
          "execution_count": 10
        }
      ]
    },
    {
      "cell_type": "code",
      "metadata": {
        "id": "5SYrdXPgyIVt",
        "outputId": "0b63b1ec-ad20-43a3-ff8d-8ba0ef11cb76",
        "colab": {
          "base_uri": "https://localhost:8080/",
          "height": 34
        }
      },
      "source": [
        "num_clases=10\n",
        "img_rows, img_cols=28,28\n",
        "\n",
        "X_train = X_train.reshape(X_train.shape[0], img_rows, img_cols, 1)\n",
        "X_test = X_test.reshape(X_test.shape[0], img_rows, img_cols, 1)\n",
        "input_shape = (img_rows, img_cols, 1)\n",
        "\n",
        "# Normalize pixel values to be between 0 and 1\n",
        "X_train, X_test = X_train / 255.0, X_test/ 255.0\n",
        "\n",
        "print('X_train shape:', X_train.shape) #X_train shape: (60000, 28, 28, 1)"
      ],
      "execution_count": 11,
      "outputs": [
        {
          "output_type": "stream",
          "text": [
            "X_train shape: (59904, 28, 28, 1)\n"
          ],
          "name": "stdout"
        }
      ]
    },
    {
      "cell_type": "code",
      "metadata": {
        "id": "1ykSXm2aBE7w"
      },
      "source": [
        "# convertir vectores de clase en matrices de clase binaria\n",
        "num_category=10\n",
        "y_train = keras.utils.to_categorical(y_train, num_category)\n",
        "y_test = keras.utils.to_categorical(y_test, num_category)"
      ],
      "execution_count": 15,
      "outputs": []
    },
    {
      "cell_type": "markdown",
      "metadata": {
        "id": "5ogOo2nvzvtr"
      },
      "source": [
        "Construcción del modelo"
      ]
    },
    {
      "cell_type": "code",
      "metadata": {
        "id": "yKSR44uJzfc8"
      },
      "source": [
        "model = Sequential()\n",
        "#1 capa convolucional con activación de unidad lineal rectificada\n",
        "model.add(Conv2D(32, kernel_size=(3, 3),\n",
        "                 activation='relu',\n",
        "                 input_shape=input_shape))\n",
        "#32 filtros de convolución usados cada uno de tamaño 3x3\n",
        "#se elige las mejores características a través de la agrupación\n",
        "model.add(MaxPooling2D(pool_size=(2, 2)))\n",
        "#2 capa convolucional con activación de unidad lineal rectificada\n",
        "model.add(Conv2D(64, kernel_size=(3, 3), activation='relu'))\n",
        "#64 filtros de convolución usados cada uno de tamaño 3x3\n",
        "#se elige las mejores características a través de la agrupación\n",
        "model.add(MaxPooling2D(pool_size=(2, 2)))\n",
        "#aplanar ya que hay demasiadas dimensiones, solo queremos una salida de clasificación\n",
        "model.add(Flatten())\n",
        "model.add(Dense(128, activation='relu'))\n",
        "#activa y desactiva las neuronas al azar para mejorar la convergencia\n",
        "model.add(Dropout(0.5))\n",
        "#output a softmax to squash the matrix into output probabilities\n",
        "model.add(Dense(num_category, activation='softmax'))"
      ],
      "execution_count": 16,
      "outputs": []
    },
    {
      "cell_type": "code",
      "metadata": {
        "id": "-J2WiKlU141p",
        "outputId": "06ca3e79-db66-44f5-ac23-939b37fb1488",
        "colab": {
          "base_uri": "https://localhost:8080/",
          "height": 425
        }
      },
      "source": [
        "model.summary()"
      ],
      "execution_count": 17,
      "outputs": [
        {
          "output_type": "stream",
          "text": [
            "Model: \"sequential_3\"\n",
            "_________________________________________________________________\n",
            "Layer (type)                 Output Shape              Param #   \n",
            "=================================================================\n",
            "conv2d_6 (Conv2D)            (None, 26, 26, 32)        320       \n",
            "_________________________________________________________________\n",
            "max_pooling2d_6 (MaxPooling2 (None, 13, 13, 32)        0         \n",
            "_________________________________________________________________\n",
            "conv2d_7 (Conv2D)            (None, 11, 11, 64)        18496     \n",
            "_________________________________________________________________\n",
            "max_pooling2d_7 (MaxPooling2 (None, 5, 5, 64)          0         \n",
            "_________________________________________________________________\n",
            "flatten_3 (Flatten)          (None, 1600)              0         \n",
            "_________________________________________________________________\n",
            "dense_3 (Dense)              (None, 128)               204928    \n",
            "_________________________________________________________________\n",
            "dropout_3 (Dropout)          (None, 128)               0         \n",
            "_________________________________________________________________\n",
            "dense_4 (Dense)              (None, 10)                1290      \n",
            "=================================================================\n",
            "Total params: 225,034\n",
            "Trainable params: 225,034\n",
            "Non-trainable params: 0\n",
            "_________________________________________________________________\n"
          ],
          "name": "stdout"
        }
      ]
    },
    {
      "cell_type": "code",
      "metadata": {
        "id": "zfpS2S-w0d_R"
      },
      "source": [
        "model.compile(loss=keras.losses.categorical_crossentropy,\n",
        "              optimizer=keras.optimizers.Adadelta(),\n",
        "              metrics=['accuracy'])"
      ],
      "execution_count": 18,
      "outputs": []
    },
    {
      "cell_type": "markdown",
      "metadata": {
        "id": "loy_sG7a3m4p"
      },
      "source": [
        "Verificar la disponibilidad de GPU"
      ]
    },
    {
      "cell_type": "code",
      "metadata": {
        "id": "wRaXE2tH3qHb",
        "outputId": "1a2de025-132e-49dc-fd3f-fdea0c1fa669",
        "colab": {
          "base_uri": "https://localhost:8080/",
          "height": 34
        }
      },
      "source": [
        "nombre_gpu = tf.test.gpu_device_name()\n",
        "if nombre_gpu != '/device:GPU:0':\n",
        "  raise SystemError('GPU no encontrada')\n",
        "print('GPU encontrada: {}'.format(nombre_gpu))"
      ],
      "execution_count": 14,
      "outputs": [
        {
          "output_type": "stream",
          "text": [
            "GPU encontrada: /device:GPU:0\n"
          ],
          "name": "stdout"
        }
      ]
    },
    {
      "cell_type": "code",
      "metadata": {
        "id": "cZg5zZi60wKD",
        "outputId": "d57f3ec6-c93f-40f8-8bee-2d5bd3b2cc96",
        "colab": {
          "base_uri": "https://localhost:8080/",
          "height": 1000
        }
      },
      "source": [
        "batch_size = 128\n",
        "num_epoch = 50\n",
        "#model training\n",
        "model_log = model.fit(X_train, y_train,\n",
        "          batch_size=batch_size,\n",
        "          epochs=num_epoch,\n",
        "          verbose=1,\n",
        "          validation_data=(X_test, y_test))"
      ],
      "execution_count": 23,
      "outputs": [
        {
          "output_type": "stream",
          "text": [
            "Epoch 1/50\n",
            "468/468 [==============================] - 2s 4ms/step - loss: 2.0036 - accuracy: 0.4540 - val_loss: 1.9520 - val_accuracy: 0.6649\n",
            "Epoch 2/50\n",
            "468/468 [==============================] - 2s 3ms/step - loss: 1.9547 - accuracy: 0.4756 - val_loss: 1.8946 - val_accuracy: 0.6833\n",
            "Epoch 3/50\n",
            "468/468 [==============================] - 2s 3ms/step - loss: 1.9030 - accuracy: 0.4883 - val_loss: 1.8326 - val_accuracy: 0.6997\n",
            "Epoch 4/50\n",
            "468/468 [==============================] - 2s 3ms/step - loss: 1.8441 - accuracy: 0.5072 - val_loss: 1.7661 - val_accuracy: 0.7166\n",
            "Epoch 5/50\n",
            "468/468 [==============================] - 2s 3ms/step - loss: 1.7850 - accuracy: 0.5249 - val_loss: 1.6964 - val_accuracy: 0.7317\n",
            "Epoch 6/50\n",
            "468/468 [==============================] - 2s 3ms/step - loss: 1.7276 - accuracy: 0.5394 - val_loss: 1.6249 - val_accuracy: 0.7437\n",
            "Epoch 7/50\n",
            "468/468 [==============================] - 2s 3ms/step - loss: 1.6657 - accuracy: 0.5522 - val_loss: 1.5524 - val_accuracy: 0.7540\n",
            "Epoch 8/50\n",
            "468/468 [==============================] - 2s 3ms/step - loss: 1.6038 - accuracy: 0.5678 - val_loss: 1.4799 - val_accuracy: 0.7627\n",
            "Epoch 9/50\n",
            "468/468 [==============================] - 2s 3ms/step - loss: 1.5408 - accuracy: 0.5831 - val_loss: 1.4081 - val_accuracy: 0.7718\n",
            "Epoch 10/50\n",
            "468/468 [==============================] - 2s 3ms/step - loss: 1.4842 - accuracy: 0.5945 - val_loss: 1.3383 - val_accuracy: 0.7782\n",
            "Epoch 11/50\n",
            "468/468 [==============================] - 2s 3ms/step - loss: 1.4267 - accuracy: 0.6083 - val_loss: 1.2702 - val_accuracy: 0.7863\n",
            "Epoch 12/50\n",
            "468/468 [==============================] - 2s 3ms/step - loss: 1.3733 - accuracy: 0.6203 - val_loss: 1.2058 - val_accuracy: 0.7916\n",
            "Epoch 13/50\n",
            "468/468 [==============================] - 2s 4ms/step - loss: 1.3207 - accuracy: 0.6315 - val_loss: 1.1458 - val_accuracy: 0.7983\n",
            "Epoch 14/50\n",
            "468/468 [==============================] - 2s 3ms/step - loss: 1.2704 - accuracy: 0.6438 - val_loss: 1.0893 - val_accuracy: 0.8033\n",
            "Epoch 15/50\n",
            "468/468 [==============================] - 2s 3ms/step - loss: 1.2223 - accuracy: 0.6564 - val_loss: 1.0357 - val_accuracy: 0.8100\n",
            "Epoch 16/50\n",
            "468/468 [==============================] - 2s 4ms/step - loss: 1.1794 - accuracy: 0.6665 - val_loss: 0.9866 - val_accuracy: 0.8147\n",
            "Epoch 17/50\n",
            "468/468 [==============================] - 2s 4ms/step - loss: 1.1434 - accuracy: 0.6748 - val_loss: 0.9422 - val_accuracy: 0.8193\n",
            "Epoch 18/50\n",
            "468/468 [==============================] - 2s 4ms/step - loss: 1.1025 - accuracy: 0.6827 - val_loss: 0.9005 - val_accuracy: 0.8241\n",
            "Epoch 19/50\n",
            "468/468 [==============================] - 2s 4ms/step - loss: 1.0666 - accuracy: 0.6943 - val_loss: 0.8621 - val_accuracy: 0.8291\n",
            "Epoch 20/50\n",
            "468/468 [==============================] - 2s 4ms/step - loss: 1.0341 - accuracy: 0.7013 - val_loss: 0.8271 - val_accuracy: 0.8327\n",
            "Epoch 21/50\n",
            "468/468 [==============================] - 2s 4ms/step - loss: 1.0020 - accuracy: 0.7086 - val_loss: 0.7944 - val_accuracy: 0.8372\n",
            "Epoch 22/50\n",
            "468/468 [==============================] - 2s 3ms/step - loss: 0.9757 - accuracy: 0.7179 - val_loss: 0.7647 - val_accuracy: 0.8411\n",
            "Epoch 23/50\n",
            "468/468 [==============================] - 2s 4ms/step - loss: 0.9423 - accuracy: 0.7265 - val_loss: 0.7361 - val_accuracy: 0.8451\n",
            "Epoch 24/50\n",
            "468/468 [==============================] - 2s 3ms/step - loss: 0.9207 - accuracy: 0.7302 - val_loss: 0.7099 - val_accuracy: 0.8483\n",
            "Epoch 25/50\n",
            "468/468 [==============================] - 2s 3ms/step - loss: 0.8943 - accuracy: 0.7373 - val_loss: 0.6855 - val_accuracy: 0.8526\n",
            "Epoch 26/50\n",
            "468/468 [==============================] - 2s 3ms/step - loss: 0.8660 - accuracy: 0.7449 - val_loss: 0.6624 - val_accuracy: 0.8559\n",
            "Epoch 27/50\n",
            "468/468 [==============================] - 2s 3ms/step - loss: 0.8497 - accuracy: 0.7504 - val_loss: 0.6418 - val_accuracy: 0.8594\n",
            "Epoch 28/50\n",
            "468/468 [==============================] - 2s 4ms/step - loss: 0.8289 - accuracy: 0.7564 - val_loss: 0.6224 - val_accuracy: 0.8628\n",
            "Epoch 29/50\n",
            "468/468 [==============================] - 2s 4ms/step - loss: 0.8089 - accuracy: 0.7626 - val_loss: 0.6041 - val_accuracy: 0.8646\n",
            "Epoch 30/50\n",
            "468/468 [==============================] - 2s 4ms/step - loss: 0.7954 - accuracy: 0.7647 - val_loss: 0.5873 - val_accuracy: 0.8663\n",
            "Epoch 31/50\n",
            "468/468 [==============================] - 2s 3ms/step - loss: 0.7759 - accuracy: 0.7715 - val_loss: 0.5711 - val_accuracy: 0.8692\n",
            "Epoch 32/50\n",
            "468/468 [==============================] - 2s 3ms/step - loss: 0.7592 - accuracy: 0.7763 - val_loss: 0.5560 - val_accuracy: 0.8723\n",
            "Epoch 33/50\n",
            "468/468 [==============================] - 2s 3ms/step - loss: 0.7421 - accuracy: 0.7786 - val_loss: 0.5415 - val_accuracy: 0.8761\n",
            "Epoch 34/50\n",
            "468/468 [==============================] - 2s 3ms/step - loss: 0.7287 - accuracy: 0.7837 - val_loss: 0.5286 - val_accuracy: 0.8778\n",
            "Epoch 35/50\n",
            "468/468 [==============================] - 2s 4ms/step - loss: 0.7168 - accuracy: 0.7872 - val_loss: 0.5163 - val_accuracy: 0.8792\n",
            "Epoch 36/50\n",
            "468/468 [==============================] - 2s 4ms/step - loss: 0.7029 - accuracy: 0.7931 - val_loss: 0.5045 - val_accuracy: 0.8804\n",
            "Epoch 37/50\n",
            "468/468 [==============================] - 2s 4ms/step - loss: 0.6906 - accuracy: 0.7940 - val_loss: 0.4931 - val_accuracy: 0.8829\n",
            "Epoch 38/50\n",
            "468/468 [==============================] - 2s 3ms/step - loss: 0.6783 - accuracy: 0.7990 - val_loss: 0.4828 - val_accuracy: 0.8852\n",
            "Epoch 39/50\n",
            "468/468 [==============================] - 2s 3ms/step - loss: 0.6665 - accuracy: 0.8024 - val_loss: 0.4723 - val_accuracy: 0.8871\n",
            "Epoch 40/50\n",
            "468/468 [==============================] - 2s 4ms/step - loss: 0.6558 - accuracy: 0.8034 - val_loss: 0.4630 - val_accuracy: 0.8878\n",
            "Epoch 41/50\n",
            "468/468 [==============================] - 2s 3ms/step - loss: 0.6417 - accuracy: 0.8105 - val_loss: 0.4535 - val_accuracy: 0.8900\n",
            "Epoch 42/50\n",
            "468/468 [==============================] - 2s 4ms/step - loss: 0.6309 - accuracy: 0.8132 - val_loss: 0.4448 - val_accuracy: 0.8909\n",
            "Epoch 43/50\n",
            "468/468 [==============================] - 2s 4ms/step - loss: 0.6228 - accuracy: 0.8137 - val_loss: 0.4368 - val_accuracy: 0.8922\n",
            "Epoch 44/50\n",
            "468/468 [==============================] - 2s 4ms/step - loss: 0.6151 - accuracy: 0.8178 - val_loss: 0.4293 - val_accuracy: 0.8927\n",
            "Epoch 45/50\n",
            "468/468 [==============================] - 2s 4ms/step - loss: 0.6028 - accuracy: 0.8216 - val_loss: 0.4217 - val_accuracy: 0.8939\n",
            "Epoch 46/50\n",
            "468/468 [==============================] - 2s 3ms/step - loss: 0.5989 - accuracy: 0.8195 - val_loss: 0.4147 - val_accuracy: 0.8957\n",
            "Epoch 47/50\n",
            "468/468 [==============================] - 2s 4ms/step - loss: 0.5866 - accuracy: 0.8270 - val_loss: 0.4080 - val_accuracy: 0.8970\n",
            "Epoch 48/50\n",
            "468/468 [==============================] - 2s 4ms/step - loss: 0.5820 - accuracy: 0.8266 - val_loss: 0.4014 - val_accuracy: 0.8985\n",
            "Epoch 49/50\n",
            "468/468 [==============================] - 2s 4ms/step - loss: 0.5747 - accuracy: 0.8297 - val_loss: 0.3951 - val_accuracy: 0.8995\n",
            "Epoch 50/50\n",
            "468/468 [==============================] - 2s 4ms/step - loss: 0.5674 - accuracy: 0.8303 - val_loss: 0.3895 - val_accuracy: 0.9003\n"
          ],
          "name": "stdout"
        }
      ]
    },
    {
      "cell_type": "code",
      "metadata": {
        "id": "v4k5czF_Buzo",
        "outputId": "a717a20e-4c9d-4c1d-a553-229cbb825a4f",
        "colab": {
          "base_uri": "https://localhost:8080/",
          "height": 51
        }
      },
      "source": [
        "score = model.evaluate(X_test, y_test, verbose=0)\n",
        "print('Test loss:', score[0]) \n",
        "print('Test accuracy:', score[1]) "
      ],
      "execution_count": 24,
      "outputs": [
        {
          "output_type": "stream",
          "text": [
            "Test loss: 0.3895261585712433\n",
            "Test accuracy: 0.9003405570983887\n"
          ],
          "name": "stdout"
        }
      ]
    },
    {
      "cell_type": "code",
      "metadata": {
        "id": "BKteGuztB4mp"
      },
      "source": [
        "predictions = model.predict(X_test)"
      ],
      "execution_count": 25,
      "outputs": []
    },
    {
      "cell_type": "code",
      "metadata": {
        "id": "WkkWG6LPB6cT",
        "outputId": "c77170e4-6db3-459c-9508-7b3345b86dd2",
        "colab": {
          "base_uri": "https://localhost:8080/",
          "height": 34
        }
      },
      "source": [
        "import numpy as np\n",
        "np.argmax(predictions[11])"
      ],
      "execution_count": 26,
      "outputs": [
        {
          "output_type": "execute_result",
          "data": {
            "text/plain": [
              "6"
            ]
          },
          "metadata": {
            "tags": []
          },
          "execution_count": 26
        }
      ]
    }
  ]
}